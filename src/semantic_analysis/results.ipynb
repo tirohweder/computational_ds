{
 "cells": [
  {
   "cell_type": "code",
   "execution_count": 3,
   "metadata": {},
   "outputs": [],
   "source": [
    "import numpy as np\n",
    "import pandas as pd\n",
    "import sys\n",
    "import os\n",
    "sys.path.append('../src')\n",
    "sys.path.append('../data')\n",
    "import  semantic_analysis, vis_sentiment #, helper\n",
    "import os"
   ]
  },
  {
   "cell_type": "code",
   "execution_count": null,
   "metadata": {},
   "outputs": [],
   "source": [
    "\n",
    "# Define the path\n",
    "base_path = r\"C:\\Users\\storr\\OneDrive - Danmarks Tekniske Universitet\\Year 1\\Semester 1\\Computational Tools for Data Science\\Project\\DATA\""
   ]
  },
  {
   "cell_type": "code",
   "execution_count": null,
   "metadata": {},
   "outputs": [],
   "source": [
    "\n",
    "# Loop through years from 2014 to 2019\n",
    "for year in range(2014, 2017):\n",
    "\n",
    "    file_path = os.path.join(base_path, f\"fox_{year}_output.csv\")\n",
    "    \n",
    "    # Check if the file exists for the given year\n",
    "    if os.path.exists(file_path):\n",
    "        # Read the CSV file\n",
    "        #semantic_analysis.lexicon_nltk(file_path)\n",
    "        semantic_scores_roberta = semantic_analysis.roberta_semantic_algorithm_twitter(file_path)\n",
    "        \n",
    "        print(f\"File saved for year {year}\")\n",
    "    else:\n",
    "        print(f\"No file found for year {year}\")\n",
    "#'''"
   ]
  },
  {
   "cell_type": "code",
   "execution_count": 3,
   "metadata": {},
   "outputs": [
    {
     "name": "stdout",
     "output_type": "stream",
     "text": [
      "Classification in CNN 2014:\n",
      " negative    2\n",
      "neutral     2\n",
      "positive    1\n",
      "Name: Semantic roberta twitter, dtype: int64\n",
      "Classification in CNN 2015:\n",
      " neutral     13028\n",
      "negative     6898\n",
      "positive     1510\n",
      "Name: Semantic roberta twitter, dtype: int64\n",
      "Classification in CNN 2016:\n",
      " neutral     14410\n",
      "negative     7278\n",
      "positive     1526\n",
      "Name: Semantic roberta twitter, dtype: int64\n",
      "Classification in CNN 2017:\n",
      " neutral     16414\n",
      "negative     7195\n",
      "positive     1439\n",
      "Name: Semantic roberta twitter, dtype: int64\n",
      "Classification in CNN 2018:\n",
      " neutral     18736\n",
      "negative     8207\n",
      "positive     1829\n",
      "Name: Semantic roberta twitter, dtype: int64\n",
      "Classification in CNN 2019:\n",
      " neutral     24502\n",
      "negative     9784\n",
      "positive     3418\n",
      "Name: Semantic roberta twitter, dtype: int64\n"
     ]
    }
   ],
   "source": [
    "base_path = r\"C:\\Users\\storr\\OneDrive - Danmarks Tekniske Universitet\\Year 1\\Semester 1\\Computational Tools for Data Science\\Project\\SEMANTICS\"\n",
    "# Loop through years from 2014 to 2019\n",
    "for year in range(2014, 2020):\n",
    "    file_path = os.path.join(base_path, f\"cnn_{year}_semantics.csv\")\n",
    "    df = pd.read_csv(file_path)\n",
    "    print(f'Classification in CNN {year}:\\n', df['Semantic roberta twitter'].value_counts())\n",
    "    "
   ]
  },
  {
   "cell_type": "code",
   "execution_count": null,
   "metadata": {},
   "outputs": [
    {
     "name": "stdout",
     "output_type": "stream",
     "text": [
      "Classification in fox 2014:\n",
      " neutral     7541\n",
      "negative    2852\n",
      "positive    1142\n",
      "Name: Semantic roberta twitter, dtype: int64\n",
      "Classification in fox 2015:\n",
      " neutral     9658\n",
      "negative    4254\n",
      "positive    1831\n",
      "Name: Semantic roberta twitter, dtype: int64\n",
      "Classification in fox 2016:\n",
      " neutral     9735\n",
      "negative    5535\n",
      "positive    1797\n",
      "Name: Semantic roberta twitter, dtype: int64\n"
     ]
    }
   ],
   "source": [
    "for year in range(2014, 2020):\n",
    "    file_path = os.path.join(base_path, f\"fox_{year}_semantics.csv\")\n",
    "    df = pd.read_csv(file_path)\n",
    "    print(f'Classification in fox {year}:\\n', df['Semantic roberta twitter'].value_counts())"
   ]
  },
  {
   "cell_type": "markdown",
   "metadata": {},
   "source": [
    "MERGING SENTIMENT TO MASTER FILE"
   ]
  },
  {
   "cell_type": "code",
   "execution_count": 11,
   "metadata": {},
   "outputs": [
    {
     "name": "stderr",
     "output_type": "stream",
     "text": [
      "C:\\Users\\storr\\AppData\\Local\\Temp\\ipykernel_40116\\891297499.py:8: FutureWarning: The frame.append method is deprecated and will be removed from pandas in a future version. Use pandas.concat instead.\n",
      "  data_df = data_df.append(journal_sentiment)\n",
      "C:\\Users\\storr\\AppData\\Local\\Temp\\ipykernel_40116\\891297499.py:13: FutureWarning: The frame.append method is deprecated and will be removed from pandas in a future version. Use pandas.concat instead.\n",
      "  data_df = data_df.append(journal_sentiment)\n",
      "C:\\Users\\storr\\AppData\\Local\\Temp\\ipykernel_40116\\891297499.py:8: FutureWarning: The frame.append method is deprecated and will be removed from pandas in a future version. Use pandas.concat instead.\n",
      "  data_df = data_df.append(journal_sentiment)\n",
      "C:\\Users\\storr\\AppData\\Local\\Temp\\ipykernel_40116\\891297499.py:13: FutureWarning: The frame.append method is deprecated and will be removed from pandas in a future version. Use pandas.concat instead.\n",
      "  data_df = data_df.append(journal_sentiment)\n",
      "C:\\Users\\storr\\AppData\\Local\\Temp\\ipykernel_40116\\891297499.py:8: FutureWarning: The frame.append method is deprecated and will be removed from pandas in a future version. Use pandas.concat instead.\n",
      "  data_df = data_df.append(journal_sentiment)\n",
      "C:\\Users\\storr\\AppData\\Local\\Temp\\ipykernel_40116\\891297499.py:13: FutureWarning: The frame.append method is deprecated and will be removed from pandas in a future version. Use pandas.concat instead.\n",
      "  data_df = data_df.append(journal_sentiment)\n",
      "C:\\Users\\storr\\AppData\\Local\\Temp\\ipykernel_40116\\891297499.py:8: FutureWarning: The frame.append method is deprecated and will be removed from pandas in a future version. Use pandas.concat instead.\n",
      "  data_df = data_df.append(journal_sentiment)\n",
      "C:\\Users\\storr\\AppData\\Local\\Temp\\ipykernel_40116\\891297499.py:8: FutureWarning: The frame.append method is deprecated and will be removed from pandas in a future version. Use pandas.concat instead.\n",
      "  data_df = data_df.append(journal_sentiment)\n",
      "C:\\Users\\storr\\AppData\\Local\\Temp\\ipykernel_40116\\891297499.py:8: FutureWarning: The frame.append method is deprecated and will be removed from pandas in a future version. Use pandas.concat instead.\n",
      "  data_df = data_df.append(journal_sentiment)\n"
     ]
    }
   ],
   "source": [
    "large_file_path = r'C:\\Users\\storr\\OneDrive - Danmarks Tekniske Universitet\\Year 1\\Semester 1\\Computational Tools for Data Science\\Project\\DATA\\updated_dataframe_with_clusters_word2vec.csv'\n",
    "large_df = pd.read_csv(large_file_path)\n",
    "\n",
    "#adding sentiment of journla s to one single df for posterior merge. Rest of journals were merged by other collegues\n",
    "data_df = pd.DataFrame()\n",
    "for year in range(2014,2020):\n",
    "    file_path = os.path.join(base_path, f\"cnn_{year}_output.csv\")\n",
    "    journal_sentiment = pd.read_csv(file_path)\n",
    "    data_df = data_df.append(journal_sentiment)\n",
    "\n",
    "    if year<=2016:\n",
    "        file_path = os.path.join(base_path, f\"fox_{year}_output.csv\")\n",
    "        journal_sentiment = pd.read_csv(file_path)\n",
    "        data_df = data_df.append(journal_sentiment)\n"
   ]
  },
  {
   "cell_type": "code",
   "execution_count": 12,
   "metadata": {},
   "outputs": [
    {
     "ename": "TypeError",
     "evalue": "merge_data() got an unexpected keyword argument 'column'",
     "output_type": "error",
     "traceback": [
      "\u001b[1;31m---------------------------------------------------------------------------\u001b[0m",
      "\u001b[1;31mTypeError\u001b[0m                                 Traceback (most recent call last)",
      "\u001b[1;32mc:\\Users\\storr\\OneDrive - Danmarks Tekniske Universitet\\Year 1\\Semester 1\\Computational Tools for Data Science\\Project\\computational_ds\\src\\semantic_analysis\\results.ipynb Cell 8\u001b[0m line \u001b[0;36m1\n\u001b[1;32m----> <a href='vscode-notebook-cell:/c%3A/Users/storr/OneDrive%20-%20Danmarks%20Tekniske%20Universitet/Year%201/Semester%201/Computational%20Tools%20for%20Data%20Science/Project/computational_ds/src/semantic_analysis/results.ipynb#X36sZmlsZQ%3D%3D?line=0'>1</a>\u001b[0m large_df \u001b[39m=\u001b[39m semantic_analysis\u001b[39m.\u001b[39mmerge_data(large_df, data_df, column \u001b[39m=\u001b[39m \u001b[39m'\u001b[39m\u001b[39mSemantic roberta twitter\u001b[39m\u001b[39m'\u001b[39m )\n\u001b[0;32m      <a href='vscode-notebook-cell:/c%3A/Users/storr/OneDrive%20-%20Danmarks%20Tekniske%20Universitet/Year%201/Semester%201/Computational%20Tools%20for%20Data%20Science/Project/computational_ds/src/semantic_analysis/results.ipynb#X36sZmlsZQ%3D%3D?line=1'>2</a>\u001b[0m large_df \u001b[39m=\u001b[39m large_df\u001b[39m.\u001b[39mdrop(\u001b[39m'\u001b[39m\u001b[39mText\u001b[39m\u001b[39m'\u001b[39m, axis\u001b[39m=\u001b[39m\u001b[39m1\u001b[39m)\n\u001b[0;32m      <a href='vscode-notebook-cell:/c%3A/Users/storr/OneDrive%20-%20Danmarks%20Tekniske%20Universitet/Year%201/Semester%201/Computational%20Tools%20for%20Data%20Science/Project/computational_ds/src/semantic_analysis/results.ipynb#X36sZmlsZQ%3D%3D?line=2'>3</a>\u001b[0m large_df\u001b[39m.\u001b[39mto_csv(\u001b[39mr\u001b[39m\u001b[39m\"\u001b[39m\u001b[39mC:\u001b[39m\u001b[39m\\\u001b[39m\u001b[39mUsers\u001b[39m\u001b[39m\\\u001b[39m\u001b[39mstorr\u001b[39m\u001b[39m\\\u001b[39m\u001b[39mOneDrive - Danmarks Tekniske Universitet\u001b[39m\u001b[39m\\\u001b[39m\u001b[39mYear 1\u001b[39m\u001b[39m\\\u001b[39m\u001b[39mSemester 1\u001b[39m\u001b[39m\\\u001b[39m\u001b[39mComputational Tools for Data Science\u001b[39m\u001b[39m\\\u001b[39m\u001b[39mProject\u001b[39m\u001b[39m\\\u001b[39m\u001b[39mDATA\u001b[39m\u001b[39m\\\u001b[39m\u001b[39mupdated_dataframe_with_clusters_and_semantics.csv\u001b[39m\u001b[39m\"\u001b[39m)\n",
      "\u001b[1;31mTypeError\u001b[0m: merge_data() got an unexpected keyword argument 'column'"
     ]
    }
   ],
   "source": [
    "large_df = semantic_analysis.merge_data(large_df, data_df, column = 'Semantic roberta twitter' )\n",
    "large_df = large_df.drop('Text', axis=1)\n",
    "large_df.to_csv(r\"C:\\Users\\storr\\OneDrive - Danmarks Tekniske Universitet\\Year 1\\Semester 1\\Computational Tools for Data Science\\Project\\DATA\\updated_dataframe_with_clusters_and_semantics.csv\")\n",
    "print(large_df.isna().sum())"
   ]
  },
  {
   "cell_type": "markdown",
   "metadata": {},
   "source": [
    "SENTIMENT VISUALIZATION PER ORGANIZATION\n"
   ]
  },
  {
   "cell_type": "code",
   "execution_count": 2,
   "metadata": {},
   "outputs": [
    {
     "name": "stdout",
     "output_type": "stream",
     "text": [
      "28673\n",
      "neutral     0.486047\n",
      "positive    0.393875\n",
      "negative    0.120079\n",
      "Name: Semantic roberta twitter, dtype: float64\n",
      "150435\n",
      "100.0\n",
      "100.00000000000001\n",
      "100.0\n"
     ]
    },
    {
     "data": {
      "image/png": "[encoded data removed]",
      "text/plain": [
       "<Figure size 400x200 with 1 Axes>"
      ]
     },
     "metadata": {},
     "output_type": "display_data"
    }
   ],
   "source": [
    "master_file_df = pd.read_csv(r\"C:\\Users\\storr\\OneDrive - Danmarks Tekniske Universitet\\Year 1\\Semester 1\\Computational Tools for Data Science\\Project\\DATA\\updated_dataframe_with_clusters_and_semantics.csv\")\n",
    "fox_master = master_file_df[master_file_df['Organization']=='FOX']\n",
    "print(fox_master['Semantic roberta twitter'].isna().sum())\n",
    "print(fox_master['Semantic roberta twitter'].value_counts()/(len(fox_master)-fox_master['Semantic roberta twitter'].isna().sum()))\n",
    "print(len(fox_master))\n",
    "vis_sentiment.sentiment_count_graph(master_file_df)"
   ]
  },
  {
   "cell_type": "markdown",
   "metadata": {},
   "source": [
    "COMPARISON WITH LLM"
   ]
  },
  {
   "cell_type": "code",
   "execution_count": 4,
   "metadata": {},
   "outputs": [
    {
     "name": "stdout",
     "output_type": "stream",
     "text": [
      "False    0.588235\n",
      "True     0.411765\n",
      "Name: lexicon vs chatgpt, dtype: float64\n",
      "False    0.570588\n",
      "True     0.429412\n",
      "Name: roberta vs chatgpt, dtype: float64\n",
      "     Unnamed: 0.1  Unnamed: 0     ID  \\\n",
      "0          264499      264499  11941   \n",
      "1           20812       20812  20799   \n",
      "2          127659      127659   4538   \n",
      "3          418667      418667   8333   \n",
      "4           35844       35844  12568   \n",
      "..            ...         ...    ...   \n",
      "165        409283      409283  36644   \n",
      "166        285767      285767  12482   \n",
      "167        285501      285501  12206   \n",
      "168        434671      434671  24352   \n",
      "169        285400      285400  12102   \n",
      "\n",
      "                                              Headline  \\\n",
      "0    American Airlines plane reports emergency, ret...   \n",
      "1    Nicole Kidman’s second awkward Jimmy Fallon in...   \n",
      "2       World's fastest land animal is incredibly tiny   \n",
      "3    Bernie Sanders hits head on shower door, recei...   \n",
      "4                     Lord & Taylor may go up for sale   \n",
      "..                                                 ...   \n",
      "165  British Airways pilots vote to settle pay disp...   \n",
      "166  Euro zone Sept retail sales much weaker than e...   \n",
      "167  Dai-ichi life says plans to increase foreign s...   \n",
      "168  Man allegedly shoots infant in head after mom ...   \n",
      "169  Saudi-Kuwait oilfield shutdown may force Asian...   \n",
      "\n",
      "                                              Date Organization  \\\n",
      "0                                              NaN          FOX   \n",
      "1    Published 12:37 PM EST, Fri November 18, 2016          CNN   \n",
      "2             Published April 29, 2014 10:01am EDT          FOX   \n",
      "3              Published March 15, 2019 1:50pm EDT          FOX   \n",
      "4           Published 1:14 PM EDT, Mon May 6, 2019          CNN   \n",
      "..                                             ...          ...   \n",
      "165                           2019-12-16T16:33:46Z      Reuters   \n",
      "166                           2014-11-05T10:06:14Z      Reuters   \n",
      "167                           2014-10-30T07:41:44Z      Reuters   \n",
      "168             Published June 25, 2019 1:55am EDT          FOX   \n",
      "169                           2014-10-20T05:56:06Z      Reuters   \n",
      "\n",
      "                                                  Link  Cluster  \\\n",
      "0    https://www.foxbusiness.com/markets/american-a...      412   \n",
      "1    https://edition.cnn.com/2016/11/18/entertainme...       -1   \n",
      "2    https://www.foxnews.com/science/worlds-fastest...      672   \n",
      "3    https://www.foxnews.com/politics/bernie-sander...     1397   \n",
      "4    https://edition.cnn.com/2019/05/06/business/lo...      961   \n",
      "..                                                 ...      ...   \n",
      "165  https://www.reuters.com/article/iag-british-ai...      375   \n",
      "166  https://www.reuters.com/article/eurozone-retai...       -1   \n",
      "167  https://www.reuters.com/article/japan-insurers...       -1   \n",
      "168  https://www.foxnews.com/us/10-month-old-baby-s...     1455   \n",
      "169  https://www.reuters.com/article/saudi-kuwait-o...       -1   \n",
      "\n",
      "     Sentiment value lexicon Sentiment lexicon Semantic roberta twitter  \\\n",
      "0                     -0.011           neutral                 positive   \n",
      "1                      0.032           neutral                  neutral   \n",
      "2                      0.112           neutral                  neutral   \n",
      "3                     -0.003           neutral                 positive   \n",
      "4                      0.059           neutral                 positive   \n",
      "..                       ...               ...                      ...   \n",
      "165                   -0.004           neutral                 positive   \n",
      "166                   -0.005           neutral                  neutral   \n",
      "167                    0.055           neutral                  neutral   \n",
      "168                   -0.141           neutral                  neutral   \n",
      "169                   -0.038           neutral                  neutral   \n",
      "\n",
      "     Sentiment values roberta sentiment chatgpt  lexicon vs chatgpt  \\\n",
      "0                    0.483301           neutral                True   \n",
      "1                   -0.338756          positive               False   \n",
      "2                    0.410203           neutral                True   \n",
      "3                    0.093848          positive               False   \n",
      "4                    0.491580           neutral                True   \n",
      "..                        ...               ...                 ...   \n",
      "165                       NaN          positive               False   \n",
      "166                       NaN          negative               False   \n",
      "167                       NaN          positive               False   \n",
      "168                 -0.573626          negative               False   \n",
      "169                       NaN           neutral                True   \n",
      "\n",
      "     roberta vs chatgpt  \n",
      "0                 False  \n",
      "1                 False  \n",
      "2                  True  \n",
      "3                  True  \n",
      "4                 False  \n",
      "..                  ...  \n",
      "165                True  \n",
      "166               False  \n",
      "167               False  \n",
      "168               False  \n",
      "169                True  \n",
      "\n",
      "[170 rows x 15 columns]\n"
     ]
    }
   ],
   "source": [
    "sampling_articles = pd.read_csv(r\"C:\\Users\\storr\\OneDrive - Danmarks Tekniske Universitet\\Year 1\\Semester 1\\Computational Tools for Data Science\\Project\\DATA\\sampling_articles.csv\")\n",
    "sentiment_chatgpt = pd.read_csv(r\"C:\\Users\\storr\\OneDrive - Danmarks Tekniske Universitet\\Year 1\\Semester 1\\Computational Tools for Data Science\\Project\\DATA\\sentiment_chatgpt.csv\", header = None)\n",
    "sentiment_chatgpt.columns = ['sentiment chatgpt']\n",
    "\n",
    "num_articles_analyzed = len(sentiment_chatgpt)\n",
    "\n",
    "sampling_articles = sampling_articles[0:num_articles_analyzed]\n",
    "sampling_articles = pd.concat([sampling_articles, sentiment_chatgpt], axis=1)\n",
    "#sampling_articles_headlines = sampling_articles['Headline'][0:num_articles_analyzed]\n",
    "\n",
    "#master_sampling_articles = master_file_df[master_file_df['Headline'].isin(sampling_articles_headlines )]\n",
    "#master_sampling_articles\n",
    "\n",
    "\n",
    "sampling_articles['lexicon vs chatgpt'] = sampling_articles['Sentiment lexicon'] == sampling_articles['sentiment chatgpt']\n",
    "sampling_articles['roberta vs chatgpt'] = sampling_articles['Semantic roberta twitter'] == sampling_articles['sentiment chatgpt']\n",
    "\n",
    "comparison_lexicon = sampling_articles['lexicon vs chatgpt'].value_counts()/num_articles_analyzed\n",
    "comparison_roberta = sampling_articles['roberta vs chatgpt'].value_counts()/num_articles_analyzed\n",
    "\n",
    "print(comparison_lexicon)\n",
    "print(comparison_roberta)\n",
    "print(sampling_articles)"
   ]
  },
  {
   "cell_type": "code",
   "execution_count": null,
   "metadata": {},
   "outputs": [
    {
     "name": "stderr",
     "output_type": "stream",
     "text": [
      "Truncation was not explicitly activated but `max_length` is provided a specific value, please use `truncation=True` to explicitly truncate examples to max length. Defaulting to 'longest_first' truncation strategy. If you encode pairs of sequences (GLUE-style) with the tokenizer you can select this strategy more precisely by providing a specific strategy to `truncation`.\n"
     ]
    },
    {
     "name": "stdout",
     "output_type": "stream",
     "text": [
      "Roberta has completed\n"
     ]
    }
   ],
   "source": [
    "# Define the path\n",
    "base_path = r\"C:\\Users\\storr\\OneDrive - Danmarks Tekniske Universitet\\Year 1\\Semester 1\\Computational Tools for Data Science\\Project\\DATA\"\n",
    "\n",
    "file_path = os.path.join(base_path, f\"updated_dataframe_with_clusters_word2vec.csv\")\n",
    "\n",
    "# Check if the file exists for the given year\n",
    "if os.path.exists(file_path):\n",
    "    # Read the CSV file\n",
    "    #semantic_analysis.lexicon_nltk(file_path)\n",
    "    semantic_scores_roberta = semantic_analysis.roberta_semantic_algorithm_twitter(file_path)\n",
    "    print('Roberta has completed')\n",
    "    "
   ]
  },
  {
   "cell_type": "code",
   "execution_count": 4,
   "metadata": {},
   "outputs": [
    {
     "ename": "KeyboardInterrupt",
     "evalue": "",
     "output_type": "error",
     "traceback": [
      "\u001b[1;31m---------------------------------------------------------------------------\u001b[0m",
      "\u001b[1;31mKeyboardInterrupt\u001b[0m                         Traceback (most recent call last)",
      "\u001b[1;32mc:\\Users\\storr\\OneDrive - Danmarks Tekniske Universitet\\Year 1\\Semester 1\\Computational Tools for Data Science\\Project\\computational_ds\\src\\semantic_analysis\\results.ipynb Cell 14\u001b[0m line \u001b[0;36m3\n\u001b[0;32m      <a href='vscode-notebook-cell:/c%3A/Users/storr/OneDrive%20-%20Danmarks%20Tekniske%20Universitet/Year%201/Semester%201/Computational%20Tools%20for%20Data%20Science/Project/computational_ds/src/semantic_analysis/results.ipynb#Y100sZmlsZQ%3D%3D?line=0'>1</a>\u001b[0m clusters_file \u001b[39m=\u001b[39m \u001b[39mr\u001b[39m\u001b[39m\"\u001b[39m\u001b[39mC:\u001b[39m\u001b[39m\\\u001b[39m\u001b[39mUsers\u001b[39m\u001b[39m\\\u001b[39m\u001b[39mstorr\u001b[39m\u001b[39m\\\u001b[39m\u001b[39mOneDrive - Danmarks Tekniske Universitet\u001b[39m\u001b[39m\\\u001b[39m\u001b[39mYear 1\u001b[39m\u001b[39m\\\u001b[39m\u001b[39mSemester 1\u001b[39m\u001b[39m\\\u001b[39m\u001b[39mComputational Tools for Data Science\u001b[39m\u001b[39m\\\u001b[39m\u001b[39mProject\u001b[39m\u001b[39m\\\u001b[39m\u001b[39mDATA\u001b[39m\u001b[39m\\\u001b[39m\u001b[39mupdated_dataframe_with_clusters_word2vec.csv\u001b[39m\u001b[39m\"\u001b[39m\n\u001b[1;32m----> <a href='vscode-notebook-cell:/c%3A/Users/storr/OneDrive%20-%20Danmarks%20Tekniske%20Universitet/Year%201/Semester%201/Computational%20Tools%20for%20Data%20Science/Project/computational_ds/src/semantic_analysis/results.ipynb#Y100sZmlsZQ%3D%3D?line=2'>3</a>\u001b[0m lexicon_articles \u001b[39m=\u001b[39m semantic_analysis\u001b[39m.\u001b[39mlexicon_nltk(clusters_file)\n",
      "File \u001b[1;32mc:\\Users\\storr\\OneDrive - Danmarks Tekniske Universitet\\Year 1\\Semester 1\\Computational Tools for Data Science\\Project\\computational_ds\\src\\semantic_analysis\\semantic_analysis.py:81\u001b[0m, in \u001b[0;36mlexicon_nltk\u001b[1;34m(csv_file)\u001b[0m\n\u001b[0;32m     78\u001b[0m sentiment_scores \u001b[39m=\u001b[39m []\n\u001b[0;32m     80\u001b[0m \u001b[39mfor\u001b[39;00m txt \u001b[39min\u001b[39;00m txt_articles:\n\u001b[1;32m---> 81\u001b[0m     sentiment_score \u001b[39m=\u001b[39m analyzer\u001b[39m.\u001b[39mpolarity_scores(txt)\n\u001b[0;32m     82\u001b[0m     sentiment_score \u001b[39m=\u001b[39m np\u001b[39m.\u001b[39marray(\u001b[39mlist\u001b[39m(sentiment_score\u001b[39m.\u001b[39mvalues())[\u001b[39m0\u001b[39m:\u001b[39m3\u001b[39m])\n\u001b[0;32m     83\u001b[0m     sentiment_scores\u001b[39m.\u001b[39mappend(sentiment_score)\n",
      "File \u001b[1;32mc:\\Users\\storr\\anaconda3\\Lib\\site-packages\\nltk\\sentiment\\vader.py:386\u001b[0m, in \u001b[0;36mSentimentIntensityAnalyzer.polarity_scores\u001b[1;34m(self, text)\u001b[0m\n\u001b[0;32m    382\u001b[0m     sentiments \u001b[39m=\u001b[39m \u001b[39mself\u001b[39m\u001b[39m.\u001b[39msentiment_valence(valence, sentitext, item, i, sentiments)\n\u001b[0;32m    384\u001b[0m sentiments \u001b[39m=\u001b[39m \u001b[39mself\u001b[39m\u001b[39m.\u001b[39m_but_check(words_and_emoticons, sentiments)\n\u001b[1;32m--> 386\u001b[0m \u001b[39mreturn\u001b[39;00m \u001b[39mself\u001b[39m\u001b[39m.\u001b[39mscore_valence(sentiments, text)\n",
      "File \u001b[1;32mc:\\Users\\storr\\anaconda3\\Lib\\site-packages\\nltk\\sentiment\\vader.py:612\u001b[0m, in \u001b[0;36mSentimentIntensityAnalyzer.score_valence\u001b[1;34m(self, sentiments, text)\u001b[0m\n\u001b[0;32m    610\u001b[0m \u001b[39mif\u001b[39;00m pos_sum \u001b[39m>\u001b[39m math\u001b[39m.\u001b[39mfabs(neg_sum):\n\u001b[0;32m    611\u001b[0m     pos_sum \u001b[39m+\u001b[39m\u001b[39m=\u001b[39m punct_emph_amplifier\n\u001b[1;32m--> 612\u001b[0m \u001b[39melif\u001b[39;00m pos_sum \u001b[39m<\u001b[39m math\u001b[39m.\u001b[39mfabs(neg_sum):\n\u001b[0;32m    613\u001b[0m     neg_sum \u001b[39m-\u001b[39m\u001b[39m=\u001b[39m punct_emph_amplifier\n\u001b[0;32m    615\u001b[0m total \u001b[39m=\u001b[39m pos_sum \u001b[39m+\u001b[39m math\u001b[39m.\u001b[39mfabs(neg_sum) \u001b[39m+\u001b[39m neu_count\n",
      "\u001b[1;31mKeyboardInterrupt\u001b[0m: "
     ]
    }
   ],
   "source": [
    "clusters_file = r\"C:\\Users\\storr\\OneDrive - Danmarks Tekniske Universitet\\Year 1\\Semester 1\\Computational Tools for Data Science\\Project\\DATA\\updated_dataframe_with_clusters_word2vec.csv\"\n",
    "\n",
    "lexicon_articles = semantic_analysis.lexicon_nltk(clusters_file)\n"
   ]
  }
 ],
 "metadata": {
  "kernelspec": {
   "display_name": "Python 3",
   "language": "python",
   "name": "python3"
  },
  "language_info": {
   "codemirror_mode": {
    "name": "ipython",
    "version": 3
   },
   "file_extension": ".py",
   "mimetype": "text/x-python",
   "name": "python",
   "nbconvert_exporter": "python",
   "pygments_lexer": "ipython3",
   "version": "3.11.4"
  }
 },
 "nbformat": 4,
 "nbformat_minor": 2
}
